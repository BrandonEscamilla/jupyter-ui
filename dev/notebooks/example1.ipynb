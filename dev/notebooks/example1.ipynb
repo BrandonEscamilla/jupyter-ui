{
 "cells": [
  {
   "cell_type": "markdown",
   "id": "d44ca3b9-c41d-4c04-9964-26ca7632794a",
   "metadata": {},
   "source": [
    "# Content"
   ]
  },
  {
   "cell_type": "markdown",
   "id": "8e00f7a4-1aa0-4a9b-93a2-647ef81d23cc",
   "metadata": {},
   "source": [
    "## Hello"
   ]
  },
  {
   "cell_type": "code",
   "execution_count": 2,
   "id": "6945ce63-52da-4fd9-afe4-1974561f3f62",
   "metadata": {
    "jupyter_dashboard": {
     "id": "958c5591-5076-49af-8db7-87cf7bcf8ee8"
    }
   },
   "outputs": [
    {
     "data": {
      "text/plain": [
       "2"
      ]
     },
     "execution_count": 2,
     "metadata": {},
     "output_type": "execute_result"
    }
   ],
   "source": [
    "1+1"
   ]
  },
  {
   "cell_type": "code",
   "execution_count": 2,
   "id": "db4e4692-90b1-421b-b358-b58d81dbdb67",
   "metadata": {
    "jupyter_dashboard": {
     "id": "8086a641-b3d3-4ed0-8595-afa0d3ed1a03"
    }
   },
   "outputs": [
    {
     "name": "stdout",
     "output_type": "stream",
     "text": [
      "hello\n"
     ]
    }
   ],
   "source": [
    "print('hello')"
   ]
  },
  {
   "cell_type": "code",
   "execution_count": 3,
   "id": "3c3ade30-7604-4fc4-95ea-6fda6f212890",
   "metadata": {
    "jupyter_dashboard": {
     "id": "0d819fc4-f4a2-4828-8f73-5e3f2637ce3d"
    }
   },
   "outputs": [
    {
     "data": {
      "application/vnd.jupyter.widget-view+json": {
       "model_id": "ce08fd238df1444abb085f8c07c7dc8e",
       "version_major": 2,
       "version_minor": 0
      },
      "text/plain": [
       "IntRangeSlider(value=(25, 75))"
      ]
     },
     "execution_count": 3,
     "metadata": {},
     "output_type": "execute_result"
    }
   ],
   "source": [
    "import ipywidgets\n",
    "ipywidgets.IntRangeSlider()"
   ]
  },
  {
   "cell_type": "code",
   "execution_count": null,
   "id": "98536d1c-7c1b-4722-8921-b3b4383c228a",
   "metadata": {},
   "outputs": [],
   "source": []
  }
 ],
 "metadata": {
  "jupyter_dashboard": {
   "id": "e5720652-361e-4123-b157-287d3734a7f3"
  },
  "kernelspec": {
   "display_name": "Python 3 (ipykernel)",
   "language": "python",
   "name": "python3"
  },
  "language_info": {
   "codemirror_mode": {
    "name": "ipython",
    "version": 3
   },
   "file_extension": ".py",
   "mimetype": "text/x-python",
   "name": "python",
   "nbconvert_exporter": "python",
   "pygments_lexer": "ipython3",
   "version": "3.11.4"
  },
  "widgets": {
   "application/vnd.jupyter.widget-state+json": {
    "state": {
     "0c6612486dab4933bd12dea30ea5cbc8": {
      "model_module": "@jupyter-widgets/controls",
      "model_module_version": "2.0.0",
      "model_name": "SliderStyleModel",
      "state": {
       "description_width": ""
      }
     },
     "5a45692907744925b0f27af0ecb8bae1": {
      "model_module": "@jupyter-widgets/base",
      "model_module_version": "2.0.0",
      "model_name": "LayoutModel",
      "state": {}
     },
     "909d2fb9d6a3401bb7ca41cefaa2733c": {
      "model_module": "@jupyter-widgets/base",
      "model_module_version": "2.0.0",
      "model_name": "LayoutModel",
      "state": {}
     },
     "cac2b15c949d41a18608a83f88ad781e": {
      "model_module": "@jupyter-widgets/controls",
      "model_module_version": "2.0.0",
      "model_name": "SliderStyleModel",
      "state": {
       "description_width": ""
      }
     },
     "ce08fd238df1444abb085f8c07c7dc8e": {
      "model_module": "@jupyter-widgets/controls",
      "model_module_version": "2.0.0",
      "model_name": "IntRangeSliderModel",
      "state": {
       "_model_name": "IntRangeSliderModel",
       "_view_name": "IntRangeSliderView",
       "behavior": "drag-tap",
       "layout": "IPY_MODEL_5a45692907744925b0f27af0ecb8bae1",
       "style": "IPY_MODEL_0c6612486dab4933bd12dea30ea5cbc8",
       "value": [
        25,
        75
       ]
      }
     },
     "d62f7252838a4f288c5c66325833832d": {
      "model_module": "@jupyter-widgets/controls",
      "model_module_version": "2.0.0",
      "model_name": "IntRangeSliderModel",
      "state": {
       "_model_name": "IntRangeSliderModel",
       "_view_name": "IntRangeSliderView",
       "behavior": "drag-tap",
       "layout": "IPY_MODEL_909d2fb9d6a3401bb7ca41cefaa2733c",
       "style": "IPY_MODEL_cac2b15c949d41a18608a83f88ad781e",
       "value": [
        25,
        75
       ]
      }
     }
    },
    "version_major": 2,
    "version_minor": 0
   }
  }
 },
 "nbformat": 4,
 "nbformat_minor": 5
}
